{
 "cells": [
  {
   "cell_type": "code",
   "execution_count": 1,
   "metadata": {},
   "outputs": [],
   "source": [
    "import pandas as pd \n",
    "from pymongo import MongoClient"
   ]
  },
  {
   "cell_type": "code",
   "execution_count": 2,
   "metadata": {},
   "outputs": [],
   "source": [
    "df = pd.read_csv(\"/mnt/c/Users/yangg/project/data/comment/Machine Learnia/AFGvDndE2yc4mqKmTbAnHY.csv\", index_col=0)"
   ]
  },
  {
   "cell_type": "code",
   "execution_count": 3,
   "metadata": {},
   "outputs": [
    {
     "data": {
      "text/html": [
       "<div>\n",
       "<style scoped>\n",
       "    .dataframe tbody tr th:only-of-type {\n",
       "        vertical-align: middle;\n",
       "    }\n",
       "\n",
       "    .dataframe tbody tr th {\n",
       "        vertical-align: top;\n",
       "    }\n",
       "\n",
       "    .dataframe thead th {\n",
       "        text-align: right;\n",
       "    }\n",
       "</style>\n",
       "<table border=\"1\" class=\"dataframe\">\n",
       "  <thead>\n",
       "    <tr style=\"text-align: right;\">\n",
       "      <th></th>\n",
       "      <th>text</th>\n",
       "      <th>votes</th>\n",
       "    </tr>\n",
       "  </thead>\n",
       "  <tbody>\n",
       "    <tr>\n",
       "      <th>0</th>\n",
       "      <td>C'est un nain de 10 pied 3m pas de 10m</td>\n",
       "      <td>0</td>\n",
       "    </tr>\n",
       "    <tr>\n",
       "      <th>1</th>\n",
       "      <td>Cool le t shirt y'en a pour les non puceaux</td>\n",
       "      <td>0</td>\n",
       "    </tr>\n",
       "    <tr>\n",
       "      <th>2</th>\n",
       "      <td>4:50 c pour sa que tu fait des musique maintenant</td>\n",
       "      <td>1</td>\n",
       "    </tr>\n",
       "    <tr>\n",
       "      <th>3</th>\n",
       "      <td>4:53 et dire qu'il a fait un album 4 ans après 👏💯</td>\n",
       "      <td>1</td>\n",
       "    </tr>\n",
       "    <tr>\n",
       "      <th>4</th>\n",
       "      <td>Regardez cette vidéo après la sortie de son al...</td>\n",
       "      <td>0</td>\n",
       "    </tr>\n",
       "  </tbody>\n",
       "</table>\n",
       "</div>"
      ],
      "text/plain": [
       "                                                text  votes\n",
       "0             C'est un nain de 10 pied 3m pas de 10m      0\n",
       "1        Cool le t shirt y'en a pour les non puceaux      0\n",
       "2  4:50 c pour sa que tu fait des musique maintenant      1\n",
       "3  4:53 et dire qu'il a fait un album 4 ans après 👏💯      1\n",
       "4  Regardez cette vidéo après la sortie de son al...      0"
      ]
     },
     "execution_count": 3,
     "metadata": {},
     "output_type": "execute_result"
    }
   ],
   "source": [
    "df.head()"
   ]
  },
  {
   "cell_type": "code",
   "execution_count": 4,
   "metadata": {},
   "outputs": [],
   "source": [
    "df = df.dropna(axis = 0)"
   ]
  },
  {
   "cell_type": "code",
   "execution_count": 31,
   "metadata": {},
   "outputs": [],
   "source": [
    "import nltk\n",
    "from nltk.stem.snowball import SnowballStemmer\n",
    "import unidecode\n",
    "import re\n",
    "stemmer = SnowballStemmer(\"french\")\n",
    "from sklearn.feature_extraction.text import TfidfVectorizer\n",
    "from sklearn.preprocessing import StandardScaler\n",
    "from nltk.corpus import stopwords\n",
    "import stop_words\n",
    "stw = stop_words.get_stop_words('fr')"
   ]
  },
  {
   "cell_type": "code",
   "execution_count": 33,
   "metadata": {},
   "outputs": [],
   "source": [
    "def nettoyage(texte):\n",
    "    tex=[]\n",
    "    # Construction de la liste de stop words\n",
    "    import stop_words\n",
    "    sw_1=stop_words.get_stop_words('fr')\n",
    "    \n",
    "    sw_nltk = set(stopwords.words('french')) \n",
    "    sw=list(set(sw_1+list(sw_nltk)))+['vais','vous','je','les','qu','ils','ou','dont','tres',\"etait\"]\n",
    "    sw=[unidecode.unidecode(elem) for elem in sw]\n",
    "    \n",
    "    texte=unidecode.unidecode(texte.lower())\n",
    "    \n",
    "    p=\"([a-z]+)\"\n",
    "    for elem in re.findall(p,texte):\n",
    "        if elem in sw or elem==' ':\n",
    "            continue\n",
    "        else:\n",
    "#             tex.append(stemmer.stem(elem))\n",
    "            tex.append(elem)\n",
    "    return ' '.join(tex)\n"
   ]
  },
  {
   "cell_type": "code",
   "execution_count": 35,
   "metadata": {},
   "outputs": [],
   "source": [
    "df['text']=df['text'].apply(nettoyage)\n",
    "\n",
    "vectorizer = TfidfVectorizer()\n",
    "X = vectorizer.fit_transform(df['text'])\n",
    "\n",
    "keys = vectorizer.get_feature_names()\n",
    "array = X.toarray()\n",
    "\n",
    "# data = pd.DataFrame(data=array, index=range(0, df.shape[0]), columns=keys)\n",
    "# scaler = StandardScaler()\n",
    "# Z = scaler.fit_transform(data)\n",
    "# Z_df = pd.DataFrame(data=Z)"
   ]
  },
  {
   "cell_type": "code",
   "execution_count": 36,
   "metadata": {},
   "outputs": [],
   "source": [
    "from sklearn.feature_extraction.text import CountVectorizer\n",
    "import numpy as np\n",
    "import matplotlib.pyplot as plt\n",
    "import seaborn as sns\n",
    "sns.set_style('whitegrid')\n",
    "%matplotlib inline\n",
    "# Helper function\n",
    "\n",
    "def plot_10_most_common_words(count_data, count_vectorizer):\n",
    "    \n",
    "    words = count_vectorizer.get_feature_names()\n",
    "    total_counts = np.zeros(len(words))\n",
    "    \n",
    "    for t in count_data:\n",
    "        total_counts+=t.toarray()[0]\n",
    "    \n",
    "    count_dict = (zip(words, total_counts))\n",
    "    count_dict = sorted(count_dict, key=lambda x:x[1], reverse=True)[0:10]\n",
    "    words = [w[0] for w in count_dict]\n",
    "    counts = [w[1] for w in count_dict]\n",
    "    x_pos = np.arange(len(words)) \n",
    "    \n",
    "    plt.figure(2, figsize=(15, 15/1.6180))\n",
    "    plt.subplot(title='10 most common words')\n",
    "    sns.set_context(\"notebook\", font_scale=1.25, rc={\"lines.linewidth\": 2.5})\n",
    "    sns.barplot(x_pos, counts, palette='husl')\n",
    "    plt.xticks(x_pos, words, rotation=90) \n",
    "    plt.xlabel('words')\n",
    "    plt.ylabel('counts')\n",
    "    plt.show()\n"
   ]
  },
  {
   "cell_type": "code",
   "execution_count": 37,
   "metadata": {},
   "outputs": [
    {
     "name": "stderr",
     "output_type": "stream",
     "text": [
      "/home/gautier/anaconda3/lib/python3.8/site-packages/sklearn/utils/validation.py:68: FutureWarning: Pass input=['a', 'ai', 'aie', 'aient', 'aies', 'ait', 'alors', 'as', 'au', 'aucun', 'aura', 'aurai', 'auraient', 'aurais', 'aurait', 'auras', 'aurez', 'auriez', 'aurions', 'aurons', 'auront', 'aussi', 'autre', 'aux', 'avaient', 'avais', 'avait', 'avant', 'avec', 'avez', 'aviez', 'avions', 'avoir', 'avons', 'ayant', 'ayez', 'ayons', 'bon', 'car', 'ce', 'ceci', 'cela', 'ces', 'cet', 'cette', 'ceux', 'chaque', 'ci', 'comme', 'comment', 'd', 'dans', 'de', 'dedans', 'dehors', 'depuis', 'des', 'deux', 'devoir', 'devrait', 'devrez', 'devriez', 'devrions', 'devrons', 'devront', 'dois', 'doit', 'donc', 'dos', 'droite', 'du', 'dès', 'début', 'dù', 'elle', 'elles', 'en', 'encore', 'es', 'est', 'et', 'eu', 'eue', 'eues', 'eurent', 'eus', 'eusse', 'eussent', 'eusses', 'eussiez', 'eussions', 'eut', 'eux', 'eûmes', 'eût', 'eûtes', 'faire', 'fais', 'faisez', 'fait', 'faites', 'fois', 'font', 'force', 'furent', 'fus', 'fusse', 'fussent', 'fusses', 'fussiez', 'fussions', 'fut', 'fûmes', 'fût', 'fûtes', 'haut', 'hors', 'ici', 'il', 'ils', 'j', 'je', 'juste', 'l', 'la', 'le', 'les', 'leur', 'leurs', 'lui', 'là', 'm', 'ma', 'maintenant', 'mais', 'me', 'mes', 'moi', 'moins', 'mon', 'mot', 'même', 'n', 'ne', 'ni', 'nom', 'nommé', 'nommée', 'nommés', 'nos', 'notre', 'nous', 'nouveau', 'nouveaux', 'on', 'ont', 'ou', 'où', 'par', 'parce', 'parole', 'pas', 'personne', 'personnes', 'peu', 'peut', 'plupart', 'pour', 'pourquoi', 'qu', 'quand', 'que', 'quel', 'quelle', 'quelles', 'quels', 'qui', 'sa', 'sans', 'se', 'sera', 'serai', 'seraient', 'serais', 'serait', 'seras', 'serez', 'seriez', 'serions', 'serons', 'seront', 'ses', 'seulement', 'si', 'sien', 'soi', 'soient', 'sois', 'soit', 'sommes', 'son', 'sont', 'sous', 'soyez', 'soyons', 'suis', 'sujet', 'sur', 't', 'ta', 'tandis', 'te', 'tellement', 'tels', 'tes', 'toi', 'ton', 'tous', 'tout', 'trop', 'très', 'tu', 'un', 'une', 'valeur', 'voient', 'vois', 'voit', 'vont', 'vos', 'votre', 'vous', 'vu', 'y', 'à', 'ça', 'étaient', 'étais', 'était', 'étant', 'état', 'étiez', 'étions', 'été', 'étés', 'êtes', 'être'] as keyword args. From version 0.25 passing these as positional arguments will result in an error\n",
      "  warnings.warn(\"Pass {} as keyword args. From version 0.25 \"\n"
     ]
    },
    {
     "data": {
      "image/png": "[encoded data removed]",
      "text/plain": [
       "<Figure size 1080x667.491 with 1 Axes>"
      ]
     },
     "metadata": {
      "needs_background": "light"
     },
     "output_type": "display_data"
    }
   ],
   "source": [
    "count_vectorizer = CountVectorizer(stw)\n",
    "# Fit and transform the processed titles\n",
    "count_data = count_vectorizer.fit_transform(df['text'])\n",
    "# Visualise the 10 most common words\n",
    "plot_10_most_common_words(count_data, count_vectorizer)"
   ]
  },
  {
   "cell_type": "code",
   "execution_count": 13,
   "metadata": {},
   "outputs": [
    {
     "data": {
      "text/plain": [
       "(0.0, 0.0)"
      ]
     },
     "execution_count": 13,
     "metadata": {},
     "output_type": "execute_result"
    }
   ],
   "source": [
    "from textblob import Blobber\n",
    "from textblob_fr import PatternTagger, PatternAnalyzer\n",
    "tb = Blobber(pos_tagger=PatternTagger(), analyzer=PatternAnalyzer())\n",
    "blob1 = tb(u\"c'est décroissant\")\n",
    "blob1.sentiment"
   ]
  },
  {
   "cell_type": "code",
   "execution_count": 8,
   "metadata": {},
   "outputs": [],
   "source": [
    "df2 = pd.read_csv(\"/mnt/c/Users/yangg/project/data/comment/Machine Learnia/AFGvDndE2yc.csv\", index_col=0)"
   ]
  },
  {
   "cell_type": "code",
   "execution_count": 9,
   "metadata": {},
   "outputs": [],
   "source": [
    "df2 = df2.dropna(axis = 0)"
   ]
  },
  {
   "cell_type": "code",
   "execution_count": 14,
   "metadata": {},
   "outputs": [],
   "source": [
    "df2['polarity'] = df2['text'].apply(lambda x: tb(x).sentiment)"
   ]
  },
  {
   "cell_type": "code",
   "execution_count": 15,
   "metadata": {},
   "outputs": [],
   "source": [
    "def which_sentiment(x):\n",
    "    if x[0] > 0:\n",
    "        return 'positive'\n",
    "    elif x[0] < 0:\n",
    "        return 'negative'\n",
    "    else:\n",
    "        return 'neutre'"
   ]
  },
  {
   "cell_type": "code",
   "execution_count": 23,
   "metadata": {},
   "outputs": [],
   "source": [
    "df2['sentiment'] = df2['polarity'].apply(which_sentiment)"
   ]
  },
  {
   "cell_type": "code",
   "execution_count": 25,
   "metadata": {},
   "outputs": [
    {
     "data": {
      "text/plain": [
       "<matplotlib.axes._subplots.AxesSubplot at 0x7fcc6b116610>"
      ]
     },
     "execution_count": 25,
     "metadata": {},
     "output_type": "execute_result"
    },
    {
     "data": {
      "image/png": "[encoded data removed]",
      "text/plain": [
       "<Figure size 432x288 with 1 Axes>"
      ]
     },
     "metadata": {
      "needs_background": "light"
     },
     "output_type": "display_data"
    }
   ],
   "source": [
    "df2['sentiment'].value_counts().plot.bar()"
   ]
  },
  {
   "cell_type": "code",
   "execution_count": 51,
   "metadata": {},
   "outputs": [],
   "source": [
    "client = MongoClient('localhost', 27017)\n",
    "db = client.youtube\n",
    "collection = db.comments"
   ]
  },
  {
   "cell_type": "code",
   "execution_count": 52,
   "metadata": {},
   "outputs": [],
   "source": [
    "comments_in_db = collection.find({\"video_id\": \"82KLS2C_gNQ\"})\n",
    "df =  pd.DataFrame(list(comments_in_db))"
   ]
  },
  {
   "cell_type": "code",
   "execution_count": 32,
   "metadata": {},
   "outputs": [],
   "source": [
    "#  collection.insert_one({'video_id':123354,'comment_id':\"dfdfg\", 'text':\"dssdgsqrg\",'votes':454867867})"
   ]
  },
  {
   "cell_type": "code",
   "execution_count": 40,
   "metadata": {},
   "outputs": [],
   "source": [
    "collection.drop()"
   ]
  },
  {
   "cell_type": "code",
   "execution_count": 53,
   "metadata": {},
   "outputs": [
    {
     "data": {
      "text/html": [
       "<div>\n",
       "<style scoped>\n",
       "    .dataframe tbody tr th:only-of-type {\n",
       "        vertical-align: middle;\n",
       "    }\n",
       "\n",
       "    .dataframe tbody tr th {\n",
       "        vertical-align: top;\n",
       "    }\n",
       "\n",
       "    .dataframe thead th {\n",
       "        text-align: right;\n",
       "    }\n",
       "</style>\n",
       "<table border=\"1\" class=\"dataframe\">\n",
       "  <thead>\n",
       "    <tr style=\"text-align: right;\">\n",
       "      <th></th>\n",
       "      <th>_id</th>\n",
       "      <th>video_id</th>\n",
       "      <th>comment_id</th>\n",
       "      <th>text</th>\n",
       "      <th>votes</th>\n",
       "    </tr>\n",
       "  </thead>\n",
       "  <tbody>\n",
       "    <tr>\n",
       "      <th>0</th>\n",
       "      <td>5f82ca4c0b490e6996cf72a0</td>\n",
       "      <td>82KLS2C_gNQ</td>\n",
       "      <td>Ugxpybk5iDYyleVvHeh4AaABAg</td>\n",
       "      <td>Pensez vous qu'a la fin de vos vidéos je serai...</td>\n",
       "      <td>0</td>\n",
       "    </tr>\n",
       "    <tr>\n",
       "      <th>1</th>\n",
       "      <td>5f82ca4d0b490e6996cf72a1</td>\n",
       "      <td>82KLS2C_gNQ</td>\n",
       "      <td>UgwA-x2Toj_3iEWjzYZ4AaABAg</td>\n",
       "      <td>En premier, un Gros merci pour le bon travail ...</td>\n",
       "      <td>0</td>\n",
       "    </tr>\n",
       "    <tr>\n",
       "      <th>2</th>\n",
       "      <td>5f82ca4d0b490e6996cf72a2</td>\n",
       "      <td>82KLS2C_gNQ</td>\n",
       "      <td>UgwA-x2Toj_3iEWjzYZ4AaABAg.9EWi-7FgV8l9EX2kMJAjtA</td>\n",
       "      <td>Bonjour et merci :)\\nIl y a mon site internet ...</td>\n",
       "      <td>0</td>\n",
       "    </tr>\n",
       "    <tr>\n",
       "      <th>3</th>\n",
       "      <td>5f82ca4d0b490e6996cf72a3</td>\n",
       "      <td>82KLS2C_gNQ</td>\n",
       "      <td>UgzJpSgcHQkmx3gI-TB4AaABAg</td>\n",
       "      <td>Je m'abonne direct même pas besoin de le deman...</td>\n",
       "      <td>0</td>\n",
       "    </tr>\n",
       "    <tr>\n",
       "      <th>4</th>\n",
       "      <td>5f82ca4d0b490e6996cf72a4</td>\n",
       "      <td>82KLS2C_gNQ</td>\n",
       "      <td>UgzJpSgcHQkmx3gI-TB4AaABAg.9EVnGsEss0n9EVoqFEJjPf</td>\n",
       "      <td>Bienvenue dans la communauté :)</td>\n",
       "      <td>0</td>\n",
       "    </tr>\n",
       "    <tr>\n",
       "      <th>...</th>\n",
       "      <td>...</td>\n",
       "      <td>...</td>\n",
       "      <td>...</td>\n",
       "      <td>...</td>\n",
       "      <td>...</td>\n",
       "    </tr>\n",
       "    <tr>\n",
       "      <th>567</th>\n",
       "      <td>5f82ca530b490e6996cf74d7</td>\n",
       "      <td>82KLS2C_gNQ</td>\n",
       "      <td>UgyprbZDgn65hNN-i8J4AaABAg</td>\n",
       "      <td>merci beaucoup Guillaume c'est super gentil et...</td>\n",
       "      <td>1</td>\n",
       "    </tr>\n",
       "    <tr>\n",
       "      <th>568</th>\n",
       "      <td>5f82ca530b490e6996cf74d8</td>\n",
       "      <td>82KLS2C_gNQ</td>\n",
       "      <td>UgyprbZDgn65hNN-i8J4AaABAg.8zQU_oQq5_f8zQVkXypgJ2</td>\n",
       "      <td>Merci beaucoup ! :)</td>\n",
       "      <td>1</td>\n",
       "    </tr>\n",
       "    <tr>\n",
       "      <th>569</th>\n",
       "      <td>5f82ca530b490e6996cf74d9</td>\n",
       "      <td>82KLS2C_gNQ</td>\n",
       "      <td>UgyprbZDgn65hNN-i8J4AaABAg.8zQU_oQq5_f8zQW8eheiSV</td>\n",
       "      <td>je vous en prie cher  Guillaume</td>\n",
       "      <td>1</td>\n",
       "    </tr>\n",
       "    <tr>\n",
       "      <th>570</th>\n",
       "      <td>5f82ca530b490e6996cf74da</td>\n",
       "      <td>82KLS2C_gNQ</td>\n",
       "      <td>Ugwqlkvcz1xTK6Bynt14AaABAg</td>\n",
       "      <td>Super ! J'ai hâte de voir les autres vidéos de...</td>\n",
       "      <td>0</td>\n",
       "    </tr>\n",
       "    <tr>\n",
       "      <th>571</th>\n",
       "      <td>5f82ca530b490e6996cf74db</td>\n",
       "      <td>82KLS2C_gNQ</td>\n",
       "      <td>Ugwqlkvcz1xTK6Bynt14AaABAg.8zQRleOSpLP8zQVldXzobN</td>\n",
       "      <td>Merci ! J'ai beaucoup de travail ! ahah</td>\n",
       "      <td>1</td>\n",
       "    </tr>\n",
       "  </tbody>\n",
       "</table>\n",
       "<p>572 rows × 5 columns</p>\n",
       "</div>"
      ],
      "text/plain": [
       "                          _id     video_id  \\\n",
       "0    5f82ca4c0b490e6996cf72a0  82KLS2C_gNQ   \n",
       "1    5f82ca4d0b490e6996cf72a1  82KLS2C_gNQ   \n",
       "2    5f82ca4d0b490e6996cf72a2  82KLS2C_gNQ   \n",
       "3    5f82ca4d0b490e6996cf72a3  82KLS2C_gNQ   \n",
       "4    5f82ca4d0b490e6996cf72a4  82KLS2C_gNQ   \n",
       "..                        ...          ...   \n",
       "567  5f82ca530b490e6996cf74d7  82KLS2C_gNQ   \n",
       "568  5f82ca530b490e6996cf74d8  82KLS2C_gNQ   \n",
       "569  5f82ca530b490e6996cf74d9  82KLS2C_gNQ   \n",
       "570  5f82ca530b490e6996cf74da  82KLS2C_gNQ   \n",
       "571  5f82ca530b490e6996cf74db  82KLS2C_gNQ   \n",
       "\n",
       "                                            comment_id  \\\n",
       "0                           Ugxpybk5iDYyleVvHeh4AaABAg   \n",
       "1                           UgwA-x2Toj_3iEWjzYZ4AaABAg   \n",
       "2    UgwA-x2Toj_3iEWjzYZ4AaABAg.9EWi-7FgV8l9EX2kMJAjtA   \n",
       "3                           UgzJpSgcHQkmx3gI-TB4AaABAg   \n",
       "4    UgzJpSgcHQkmx3gI-TB4AaABAg.9EVnGsEss0n9EVoqFEJjPf   \n",
       "..                                                 ...   \n",
       "567                         UgyprbZDgn65hNN-i8J4AaABAg   \n",
       "568  UgyprbZDgn65hNN-i8J4AaABAg.8zQU_oQq5_f8zQVkXypgJ2   \n",
       "569  UgyprbZDgn65hNN-i8J4AaABAg.8zQU_oQq5_f8zQW8eheiSV   \n",
       "570                         Ugwqlkvcz1xTK6Bynt14AaABAg   \n",
       "571  Ugwqlkvcz1xTK6Bynt14AaABAg.8zQRleOSpLP8zQVldXzobN   \n",
       "\n",
       "                                                  text votes  \n",
       "0    Pensez vous qu'a la fin de vos vidéos je serai...     0  \n",
       "1    En premier, un Gros merci pour le bon travail ...     0  \n",
       "2    Bonjour et merci :)\\nIl y a mon site internet ...     0  \n",
       "3    Je m'abonne direct même pas besoin de le deman...     0  \n",
       "4                      Bienvenue dans la communauté :)     0  \n",
       "..                                                 ...   ...  \n",
       "567  merci beaucoup Guillaume c'est super gentil et...     1  \n",
       "568                                Merci beaucoup ! :)     1  \n",
       "569                    je vous en prie cher  Guillaume     1  \n",
       "570  Super ! J'ai hâte de voir les autres vidéos de...     0  \n",
       "571            Merci ! J'ai beaucoup de travail ! ahah     1  \n",
       "\n",
       "[572 rows x 5 columns]"
      ]
     },
     "execution_count": 53,
     "metadata": {},
     "output_type": "execute_result"
    }
   ],
   "source": [
    "df"
   ]
  },
  {
   "cell_type": "code",
   "execution_count": 43,
   "metadata": {},
   "outputs": [],
   "source": [
    "client.close()"
   ]
  },
  {
   "cell_type": "code",
   "execution_count": 56,
   "metadata": {},
   "outputs": [],
   "source": [
    "from transformers import AutoTokenizer, TFAutoModelForSequenceClassification\n",
    "from transformers import pipeline\n",
    "from pymongo import MongoClient\n",
    "import pandas as pd\n",
    "import random\n",
    "\n",
    "\n",
    "def sentiment_analysis(comments_data):\n",
    "    '''\n",
    "    This function take in mongodb all comments with the video_id that we give, and use nlp to give us the sentiment\n",
    "    '''\n",
    "    # import weights that trained with allocine dataset by Camember tokenizer\n",
    "    tokenizer = AutoTokenizer.from_pretrained(\"tblard/tf-allocine\")\n",
    "    model = TFAutoModelForSequenceClassification.from_pretrained(\"tblard/tf-allocine\")\n",
    "    nlp = pipeline('sentiment-analysis', model=model, tokenizer=tokenizer)\n",
    "\n",
    "    # Connection to Mongodb and read comments with video_id\n",
    "    # client = MongoClient('localhost', 27017)\n",
    "    # db = client.youtube\n",
    "    # collection = db.comments\n",
    "    # comments_mongo = collection.find({\"video_id\": video_id})\n",
    "\n",
    "    random_df = comments_data['text'].sample(n=100, random_state=1)\n",
    "    sentiments = [nlp(com)[0]['label'] for com in random_df]\n",
    "    \n",
    "    positive_nb = sentiments.count(\"POSITIVE\")\n",
    "    negative_nb = sentiments.count(\"NEGATIVE\")\n",
    "    # df_comments['sentiment'] = df_comments['text'].apply(lambda x: nlp(x)[0]['label'])\n",
    "    # client.close()\n",
    "    return positive_nb, negative_nb"
   ]
  },
  {
   "cell_type": "code",
   "execution_count": 57,
   "metadata": {},
   "outputs": [
    {
     "name": "stderr",
     "output_type": "stream",
     "text": [
      "All model checkpoint weights were used when initializing TFCamembertForSequenceClassification.\n",
      "\n",
      "All the weights of TFCamembertForSequenceClassification were initialized from the model checkpoint at tblard/tf-allocine.\n",
      "If your task is similar to the task the model of the checkpoint was trained on, you can already use TFCamembertForSequenceClassification for predictions without further training.\n"
     ]
    }
   ],
   "source": [
    "tokenizer = AutoTokenizer.from_pretrained(\"tblard/tf-allocine\")\n",
    "model = TFAutoModelForSequenceClassification.from_pretrained(\"tblard/tf-allocine\")\n",
    "nlp = pipeline('sentiment-analysis', model=model, tokenizer=tokenizer)"
   ]
  },
  {
   "cell_type": "code",
   "execution_count": 58,
   "metadata": {},
   "outputs": [],
   "source": [
    "random_df = df['text'].sample(n=100, random_state=1)"
   ]
  },
  {
   "cell_type": "code",
   "execution_count": 59,
   "metadata": {},
   "outputs": [],
   "source": [
    "sentiments = [nlp(com)[0]['label'] for com in random_df]"
   ]
  },
  {
   "cell_type": "code",
   "execution_count": 49,
   "metadata": {},
   "outputs": [
    {
     "name": "stderr",
     "output_type": "stream",
     "text": [
      "All model checkpoint weights were used when initializing TFCamembertForSequenceClassification.\n",
      "\n",
      "All the weights of TFCamembertForSequenceClassification were initialized from the model checkpoint at tblard/tf-allocine.\n",
      "If your task is similar to the task the model of the checkpoint was trained on, you can already use TFCamembertForSequenceClassification for predictions without further training.\n"
     ]
    },
    {
     "data": {
      "text/plain": [
       "(92, 8)"
      ]
     },
     "execution_count": 49,
     "metadata": {},
     "output_type": "execute_result"
    }
   ],
   "source": [
    "sentiment_analysis(df)"
   ]
  },
  {
   "cell_type": "code",
   "execution_count": 3,
   "metadata": {},
   "outputs": [
    {
     "name": "stderr",
     "output_type": "stream",
     "text": [
      "All model checkpoint weights were used when initializing TFCamembertForSequenceClassification.\n",
      "\n",
      "All the weights of TFCamembertForSequenceClassification were initialized from the model checkpoint at tblard/tf-allocine.\n",
      "If your task is similar to the task the model of the checkpoint was trained on, you can already use TFCamembertForSequenceClassification for predictions without further training.\n"
     ]
    }
   ],
   "source": [
    "from transformers import AutoTokenizer, TFAutoModelForSequenceClassification\n",
    "tokenizer = AutoTokenizer.from_pretrained(\"tblard/tf-allocine\")\n",
    "model = TFAutoModelForSequenceClassification.from_pretrained(\"tblard/tf-allocine\")"
   ]
  },
  {
   "cell_type": "code",
   "execution_count": 4,
   "metadata": {},
   "outputs": [],
   "source": [
    "import pickle"
   ]
  },
  {
   "cell_type": "code",
   "execution_count": 5,
   "metadata": {},
   "outputs": [],
   "source": [
    "pickle.dump( tokenizer, open( \"tokenizer.pickle\", \"wb\" ) )"
   ]
  },
  {
   "cell_type": "code",
   "execution_count": 6,
   "metadata": {},
   "outputs": [
    {
     "ename": "TypeError",
     "evalue": "cannot pickle 'weakref' object",
     "output_type": "error",
     "traceback": [
      "\u001b[0;31m---------------------------------------------------------------------------\u001b[0m",
      "\u001b[0;31mTypeError\u001b[0m                                 Traceback (most recent call last)",
      "\u001b[0;32m<ipython-input-6-4fdf3a4d5992>\u001b[0m in \u001b[0;36m<module>\u001b[0;34m\u001b[0m\n\u001b[0;32m----> 1\u001b[0;31m \u001b[0mpickle\u001b[0m\u001b[0;34m.\u001b[0m\u001b[0mdump\u001b[0m\u001b[0;34m(\u001b[0m \u001b[0mmodel\u001b[0m\u001b[0;34m,\u001b[0m \u001b[0mopen\u001b[0m\u001b[0;34m(\u001b[0m \u001b[0;34m\"model.pickle\"\u001b[0m\u001b[0;34m,\u001b[0m \u001b[0;34m\"wb\"\u001b[0m \u001b[0;34m)\u001b[0m \u001b[0;34m)\u001b[0m\u001b[0;34m\u001b[0m\u001b[0;34m\u001b[0m\u001b[0m\n\u001b[0m",
      "\u001b[0;31mTypeError\u001b[0m: cannot pickle 'weakref' object"
     ]
    }
   ],
   "source": [
    "pickle.dump( model, open( \"model.pickle\", \"wb\" ) )"
   ]
  },
  {
   "cell_type": "code",
   "execution_count": 9,
   "metadata": {},
   "outputs": [],
   "source": [
    "import dill"
   ]
  },
  {
   "cell_type": "code",
   "execution_count": 8,
   "metadata": {},
   "outputs": [],
   "source": [
    "import weakref"
   ]
  },
  {
   "cell_type": "code",
   "execution_count": 11,
   "metadata": {},
   "outputs": [
    {
     "data": {
      "text/plain": [
       "b'\\x80\\x04\\x95\\x9b\\x01\\x00\\x00\\x00\\x00\\x00\\x00\\x8c\\x07weakref\\x94\\x8c\\x11WeakKeyDictionary\\x94\\x93\\x94)\\x81\\x94}\\x94(\\x8c\\x04data\\x94}\\x94\\x8c\\x07_remove\\x94\\x8c\\ndill._dill\\x94\\x8c\\x10_create_function\\x94\\x93\\x94(h\\x08\\x8c\\x0c_create_code\\x94\\x93\\x94(K\\x02K\\x00K\\x00K\\x03K\\x03KSC.|\\x01\\x83\\x00}\\x02|\\x02d\\x00k\\tr*|\\x02j\\x00r\"|\\x02j\\x01\\xa0\\x02|\\x00\\xa1\\x01\\x01\\x00n\\x08|\\x02j\\x03|\\x00=\\x00d\\x00S\\x00\\x94N\\x85\\x94(\\x8c\\n_iterating\\x94\\x8c\\x11_pending_removals\\x94\\x8c\\x06append\\x94h\\x05t\\x94\\x8c\\x01k\\x94\\x8c\\x07selfref\\x94\\x8c\\x04self\\x94\\x87\\x94\\x8c0/home/gautier/anaconda3/lib/python3.8/weakref.py\\x94\\x8c\\x06remove\\x94MY\\x01C\\n\\x00\\x01\\x06\\x01\\x08\\x01\\x06\\x01\\x0e\\x02\\x94))t\\x94R\\x94cweakref\\n__dict__\\nh\\x18h\\x08\\x8c\\x0f_create_weakref\\x94\\x93\\x94h\\x03\\x85\\x94R\\x94\\x85\\x94N}\\x94Nt\\x94R\\x94h\\x10]\\x94h\\x0f\\x8f\\x94\\x8c\\n_dirty_len\\x94\\x89ub.'"
      ]
     },
     "execution_count": 11,
     "metadata": {},
     "output_type": "execute_result"
    }
   ],
   "source": [
    "dill.dumps(weakref.WeakKeyDictionary())"
   ]
  }
 ],
 "metadata": {
  "kernelspec": {
   "display_name": "Python 3",
   "language": "python",
   "name": "python3"
  },
  "language_info": {
   "codemirror_mode": {
    "name": "ipython",
    "version": 3
   },
   "file_extension": ".py",
   "mimetype": "text/x-python",
   "name": "python",
   "nbconvert_exporter": "python",
   "pygments_lexer": "ipython3",
   "version": "3.8.3"
  }
 },
 "nbformat": 4,
 "nbformat_minor": 4
}
