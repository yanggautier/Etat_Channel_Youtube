{
 "cells": [
  {
   "cell_type": "code",
   "execution_count": 41,
   "metadata": {},
   "outputs": [],
   "source": [
    "import pandas as pd\n",
    "import matplotlib.pyplot as plt"
   ]
  },
  {
   "cell_type": "code",
   "execution_count": 42,
   "metadata": {},
   "outputs": [],
   "source": [
    "data = pd.read_csv(\"../data/video/SQUEEZIE/Statistics.csv\", index_col=0)"
   ]
  },
  {
   "cell_type": "code",
   "execution_count": 43,
   "metadata": {},
   "outputs": [
    {
     "data": {
      "text/html": [
       "<div>\n",
       "<style scoped>\n",
       "    .dataframe tbody tr th:only-of-type {\n",
       "        vertical-align: middle;\n",
       "    }\n",
       "\n",
       "    .dataframe tbody tr th {\n",
       "        vertical-align: top;\n",
       "    }\n",
       "\n",
       "    .dataframe thead th {\n",
       "        text-align: right;\n",
       "    }\n",
       "</style>\n",
       "<table border=\"1\" class=\"dataframe\">\n",
       "  <thead>\n",
       "    <tr style=\"text-align: right;\">\n",
       "      <th></th>\n",
       "      <th>videoId</th>\n",
       "      <th>channelId</th>\n",
       "      <th>channelTitle</th>\n",
       "      <th>videoTitle</th>\n",
       "      <th>videoDescription</th>\n",
       "      <th>categoryId</th>\n",
       "      <th>videoTags</th>\n",
       "      <th>defaultLanguage</th>\n",
       "      <th>defaultAudioLanguage</th>\n",
       "      <th>viewCount</th>\n",
       "      <th>likeCount</th>\n",
       "      <th>dislikeCount</th>\n",
       "      <th>favoriteCount</th>\n",
       "      <th>commentCount</th>\n",
       "    </tr>\n",
       "  </thead>\n",
       "  <tbody>\n",
       "    <tr>\n",
       "      <th>0</th>\n",
       "      <td>Gx5JhyUwvWo</td>\n",
       "      <td>UCWeg2Pkate69NFdBeuRFTAw</td>\n",
       "      <td>SQUEEZIE</td>\n",
       "      <td>Squeezie - Tout (Clip Officiel)</td>\n",
       "      <td>Extrait de mon 1er album ‘Oxyz’ disponible par...</td>\n",
       "      <td>10</td>\n",
       "      <td>squeezie musique squeezie maman squeezie oxyz ...</td>\n",
       "      <td>fr</td>\n",
       "      <td>fr</td>\n",
       "      <td>2063923</td>\n",
       "      <td>253263</td>\n",
       "      <td>6807</td>\n",
       "      <td>0</td>\n",
       "      <td>14837</td>\n",
       "    </tr>\n",
       "    <tr>\n",
       "      <th>1</th>\n",
       "      <td>USaO1UtBMK0</td>\n",
       "      <td>UCWeg2Pkate69NFdBeuRFTAw</td>\n",
       "      <td>SQUEEZIE</td>\n",
       "      <td>pourquoi j'ai voulu tout faire moi-même ??</td>\n",
       "      <td>stream oxyz 🔥 : http://squeezie.ffm.to/oxyzEnv...</td>\n",
       "      <td>24</td>\n",
       "      <td>squeezie studio squeezie bricolage squeezie ac...</td>\n",
       "      <td>fr</td>\n",
       "      <td>fr</td>\n",
       "      <td>4268913</td>\n",
       "      <td>416463</td>\n",
       "      <td>3138</td>\n",
       "      <td>0</td>\n",
       "      <td>12444</td>\n",
       "    </tr>\n",
       "    <tr>\n",
       "      <th>2</th>\n",
       "      <td>CqmEar_QoDk</td>\n",
       "      <td>UCWeg2Pkate69NFdBeuRFTAw</td>\n",
       "      <td>SQUEEZIE</td>\n",
       "      <td>OXYZ (Transonorisation M7245)</td>\n",
       "      <td>'Oxyz' mon 1er album disponible partout en mag...</td>\n",
       "      <td>24</td>\n",
       "      <td>squeezie musique squeezie album squeezie oxyz ...</td>\n",
       "      <td>fr</td>\n",
       "      <td>fr</td>\n",
       "      <td>1502895</td>\n",
       "      <td>180337</td>\n",
       "      <td>3781</td>\n",
       "      <td>0</td>\n",
       "      <td>8034</td>\n",
       "    </tr>\n",
       "    <tr>\n",
       "      <th>3</th>\n",
       "      <td>Tt46K1cGEbo</td>\n",
       "      <td>UCWeg2Pkate69NFdBeuRFTAw</td>\n",
       "      <td>SQUEEZIE</td>\n",
       "      <td>je dois vous parler de cette émission</td>\n",
       "      <td>Pré-commande ou pré-enregistre mon 1er album '...</td>\n",
       "      <td>24</td>\n",
       "      <td>Squeezie émission Squeezie prank Squeezie horr...</td>\n",
       "      <td>fr</td>\n",
       "      <td>fr</td>\n",
       "      <td>4032405</td>\n",
       "      <td>380603</td>\n",
       "      <td>8242</td>\n",
       "      <td>0</td>\n",
       "      <td>12102</td>\n",
       "    </tr>\n",
       "    <tr>\n",
       "      <th>4</th>\n",
       "      <td>1wov5txk_Pg</td>\n",
       "      <td>UCWeg2Pkate69NFdBeuRFTAw</td>\n",
       "      <td>SQUEEZIE</td>\n",
       "      <td>mais comment ça peut finir comme ça ??</td>\n",
       "      <td>ABONNE-TOI ! http://bit.ly/2fm88Xo (merci)Vête...</td>\n",
       "      <td>24</td>\n",
       "      <td>squeezie subreddit squeezie thread squeezie re...</td>\n",
       "      <td>fr</td>\n",
       "      <td>fr</td>\n",
       "      <td>5949563</td>\n",
       "      <td>525438</td>\n",
       "      <td>5066</td>\n",
       "      <td>0</td>\n",
       "      <td>15274</td>\n",
       "    </tr>\n",
       "  </tbody>\n",
       "</table>\n",
       "</div>"
      ],
      "text/plain": [
       "       videoId                 channelId channelTitle  \\\n",
       "0  Gx5JhyUwvWo  UCWeg2Pkate69NFdBeuRFTAw     SQUEEZIE   \n",
       "1  USaO1UtBMK0  UCWeg2Pkate69NFdBeuRFTAw     SQUEEZIE   \n",
       "2  CqmEar_QoDk  UCWeg2Pkate69NFdBeuRFTAw     SQUEEZIE   \n",
       "3  Tt46K1cGEbo  UCWeg2Pkate69NFdBeuRFTAw     SQUEEZIE   \n",
       "4  1wov5txk_Pg  UCWeg2Pkate69NFdBeuRFTAw     SQUEEZIE   \n",
       "\n",
       "                                   videoTitle  \\\n",
       "0             Squeezie - Tout (Clip Officiel)   \n",
       "1  pourquoi j'ai voulu tout faire moi-même ??   \n",
       "2               OXYZ (Transonorisation M7245)   \n",
       "3       je dois vous parler de cette émission   \n",
       "4      mais comment ça peut finir comme ça ??   \n",
       "\n",
       "                                    videoDescription  categoryId  \\\n",
       "0  Extrait de mon 1er album ‘Oxyz’ disponible par...          10   \n",
       "1  stream oxyz 🔥 : http://squeezie.ffm.to/oxyzEnv...          24   \n",
       "2  'Oxyz' mon 1er album disponible partout en mag...          24   \n",
       "3  Pré-commande ou pré-enregistre mon 1er album '...          24   \n",
       "4  ABONNE-TOI ! http://bit.ly/2fm88Xo (merci)Vête...          24   \n",
       "\n",
       "                                           videoTags defaultLanguage  \\\n",
       "0  squeezie musique squeezie maman squeezie oxyz ...              fr   \n",
       "1  squeezie studio squeezie bricolage squeezie ac...              fr   \n",
       "2  squeezie musique squeezie album squeezie oxyz ...              fr   \n",
       "3  Squeezie émission Squeezie prank Squeezie horr...              fr   \n",
       "4  squeezie subreddit squeezie thread squeezie re...              fr   \n",
       "\n",
       "  defaultAudioLanguage  viewCount  likeCount  dislikeCount  favoriteCount  \\\n",
       "0                   fr    2063923     253263          6807              0   \n",
       "1                   fr    4268913     416463          3138              0   \n",
       "2                   fr    1502895     180337          3781              0   \n",
       "3                   fr    4032405     380603          8242              0   \n",
       "4                   fr    5949563     525438          5066              0   \n",
       "\n",
       "   commentCount  \n",
       "0         14837  \n",
       "1         12444  \n",
       "2          8034  \n",
       "3         12102  \n",
       "4         15274  "
      ]
     },
     "execution_count": 43,
     "metadata": {},
     "output_type": "execute_result"
    }
   ],
   "source": [
    "data.head()"
   ]
  },
  {
   "cell_type": "code",
   "execution_count": 44,
   "metadata": {},
   "outputs": [
    {
     "data": {
      "text/plain": [
       "3488625963"
      ]
     },
     "execution_count": 44,
     "metadata": {},
     "output_type": "execute_result"
    }
   ],
   "source": [
    "totalLikeCount = data['likeCount'].sum()\n",
    "totalDisLikeCount = data['dislikeCount'].sum()\n",
    "totalViewCount = data['viewCount'].sum()\n",
    "totalViewCount"
   ]
  },
  {
   "cell_type": "code",
   "execution_count": 45,
   "metadata": {},
   "outputs": [
    {
     "data": {
      "text/plain": [
       "6683958"
      ]
     },
     "execution_count": 45,
     "metadata": {},
     "output_type": "execute_result"
    }
   ],
   "source": [
    "totalCommentCount = data['commentCount'].sum()\n",
    "totalCommentCount"
   ]
  },
  {
   "cell_type": "code",
   "execution_count": 46,
   "metadata": {},
   "outputs": [
    {
     "data": {
      "text/plain": [
       "array([10, 24,  1, 23, 20])"
      ]
     },
     "execution_count": 46,
     "metadata": {},
     "output_type": "execute_result"
    }
   ],
   "source": [
    "data['categoryId'].unique()"
   ]
  },
  {
   "cell_type": "code",
   "execution_count": 47,
   "metadata": {},
   "outputs": [],
   "source": [
    "categories = {2: \"Autos et véhicules\",\n",
    "             1: \"Film et animation\",\n",
    "             10: \"Musique\",\n",
    "             15: \"Animaux & Animaux\",\n",
    "             17: \"Sports\",\n",
    "             18: \"Courts métrages\",\n",
    "             19: \"Voyages et événements\",\n",
    "             20: \"Jeux\",\n",
    "             21: \"Videoblogging\",\n",
    "             22: \"People & Blogs\",\n",
    "             23: \"Comédie\",\n",
    "             24: \"Divertissement\",\n",
    "             25: \"Actualités et politique\",\n",
    "             26: \"Mode d'emploi et style\",\n",
    "             27: \"Éducation\",\n",
    "             28: \"Science et technologie\",\n",
    "             29: \"Organisations à but non lucratif et activisme\",\n",
    "             30: \"Films\",\n",
    "             31: \"Anime / Animation\",\n",
    "             32: \"Action / Aventure\",\n",
    "             33: \"Classiques\",\n",
    "             34: \"Comédie\",\n",
    "             35: \"Documentaire\",\n",
    "             36: \"Drame\",\n",
    "             37: \"Famille\",\n",
    "             38: \"étranger\",\n",
    "             39: \"Horreur\",\n",
    "             40: \"Science-fiction / Fantaisie\",\n",
    "             41: \"Thriller\",\n",
    "             42: \"Shorts\",\n",
    "             43: \"Spectacles\",\n",
    "             44: \"Remorques\",\n",
    "              }"
   ]
  },
  {
   "cell_type": "code",
   "execution_count": 48,
   "metadata": {},
   "outputs": [],
   "source": [
    "data['categoryId'] = data['categoryId'].replace(categories)"
   ]
  },
  {
   "cell_type": "code",
   "execution_count": 49,
   "metadata": {},
   "outputs": [
    {
     "data": {
      "text/plain": [
       "<matplotlib.axes._subplots.AxesSubplot at 0x7f1a6063bd60>"
      ]
     },
     "execution_count": 49,
     "metadata": {},
     "output_type": "execute_result"
    },
    {
     "data": {
      "image/png": "[encoded data removed]",
      "text/plain": [
       "<Figure size 432x288 with 1 Axes>"
      ]
     },
     "metadata": {
      "needs_background": "light"
     },
     "output_type": "display_data"
    }
   ],
   "source": [
    "data['categoryId'].hist()"
   ]
  },
  {
   "cell_type": "code",
   "execution_count": 50,
   "metadata": {},
   "outputs": [],
   "source": [
    "cat = data['categoryId'].value_counts()"
   ]
  },
  {
   "cell_type": "code",
   "execution_count": 51,
   "metadata": {},
   "outputs": [
    {
     "data": {
      "text/plain": [
       "([<matplotlib.patches.Wedge at 0x7f1a53dc3ca0>,\n",
       "  <matplotlib.patches.Wedge at 0x7f1a53dcd190>,\n",
       "  <matplotlib.patches.Wedge at 0x7f1a53dcd820>,\n",
       "  <matplotlib.patches.Wedge at 0x7f1a53dcdeb0>,\n",
       "  <matplotlib.patches.Wedge at 0x7f1a53dd5580>],\n",
       " [Text(0.13234023741216216, 1.1926802008760322, 'Jeux'),\n",
       "  Text(-0.9339645550685185, -0.7534654669430206, 'Comédie'),\n",
       "  Text(0.7608140653649126, -0.9279881238156631, 'Divertissement'),\n",
       "  Text(1.1926801815157269, -0.1323404118915042, 'Musique'),\n",
       "  Text(1.1999626145970943, -0.009472252599297987, 'Film et animation')],\n",
       " [Text(0.121311884294482, 1.093290184136363, '46%'),\n",
       "  Text(-0.8561341754794753, -0.6906766780311023, '29%'),\n",
       "  Text(0.69741289325117, -0.8506557801643579, '22%'),\n",
       "  Text(1.0932901663894163, -0.12131204423387885, '3%'),\n",
       "  Text(1.0999657300473367, -0.008682898216023156, '0%')])"
      ]
     },
     "execution_count": 51,
     "metadata": {},
     "output_type": "execute_result"
    },
    {
     "data": {
      "image/png": "[encoded data removed]",
      "text/plain": [
       "<Figure size 432x288 with 1 Axes>"
      ]
     },
     "metadata": {},
     "output_type": "display_data"
    }
   ],
   "source": [
    "plt.pie(cat.values, labels=cat.index.values, autopct='%1.00f%%', pctdistance=1.1, labeldistance=1.2)"
   ]
  },
  {
   "cell_type": "code",
   "execution_count": 52,
   "metadata": {},
   "outputs": [],
   "source": [
    "tags = \" \".join(data['videoTags'])"
   ]
  },
  {
   "cell_type": "code",
   "execution_count": 53,
   "metadata": {},
   "outputs": [],
   "source": [
    "# pip install spacy\n",
    "#! python -m spacy download fr\n",
    "#! python -m spacy download fr_core_news_sm\n",
    "\n",
    "import spacy\n",
    "import unidecode\n",
    "# Chargement du modele français\n",
    "nlp = spacy.load('fr')\n",
    "\n",
    "# Je passe mon texte en format spacy\n",
    "doc = nlp(tags)\n",
    "\n",
    "# Voir le texte tokenisé\n",
    "texte_cleaned = [unidecode.unidecode(i.text).lower() for i in doc if i.pos_ == \"NOUN\"]\n",
    "text_output = ' '.join(texte_cleaned)"
   ]
  },
  {
   "cell_type": "code",
   "execution_count": 54,
   "metadata": {},
   "outputs": [
    {
     "data": {
      "text/plain": [
       "\"squeezie maman maman activite squeezie meubles squeezie metrage technologie transonorisation emission horreur emission horreur squeezie reaction squeezie soiree squeezie horreur histoire horreur voiture squeezie histoire peur metrage collection questions activite maquillage illusion science magie illusion squeezie horreur histoire horreur histoire peur histoire horreur jouets enfance pistolet collection vetements collection magie tour magie magie activite squeezie fabrication squeezie invention ingenieur fabrication construction squeezie horreur histoire horreur histoire peur depanneur avion histoire crash avion avion histoire horreur crash voiture squeezie attraction action park attraction squeezie argent squeezie squeezie nature horreur peur horreur film horreur occupations reaction horreur histoire horreur histoire squeezie histoire jeu soleil animal pleurs emotion actions squeezie squeezie cheval activite squeezie squeezie jeu adresse squeezie squeezie reaction maquette maquette train emotion actions monde record monde amis frite squeezie amis jeu sous-titres horreur histoire horreur ascenseur pub illusion squeezie perspectives perspectives horreur histoire horreur temoignages histoire horreur sport athletisme squeezie horreur horreur histoire horreur squeezie histoire squeezie foret squeezie vetements squeezie collection ete festival festival or squeezie squeezie expressions expressions signification expressions definition expressions t - couture squeezie activite squeezie histoire fille jeu histoire amour horreur histoire sculpture activite squeezie histoire fille jeu histoire amour poterie activite squeezie pot terre horreur histoire horreur histoire peur reaction activite squeezie chatroulette squeezie squeezie horreur histoires horreur histoire sculpture squeezie chatroulette verite visage tests squeezie squeezie chien youtube youtube maxenss questions youtube questions squeezie squeezie squeezie enfants squeezie questions questions horreur histoire horreur histoire peur twitter tete squeezie bois solution tete tweets tweets tweet squeezie conversation conversations demandes invitations ete ete ete ete pince squeezie pince oeil deguisement maxenss vetements fille surveillance securite squeezie squeezie squeezie best fail fails ecole examen ecole squeezie poterie accrosport jeux mode mods horreur histoire horreur squeezie clash cyprien enfants squeezie razmokets clash intelligence squeezie squeezie demonetisation enfants squeezie monetisation argent squeezie fille feminisme battle legends legends fr actualite emission ruquier articles squeezie article ligne squeezie internet histoire horreur histoire squeezie horreur twitter horreur setup squeezie setup youtube squeezie youtube ecole examen salle cours ecole squeezie squeezie mmmh image moments squeezie moments marrants best squeezie best squeezie s bilan squeezie best squeezie fin annee faq man squeezie annees squeezie squeezie squeezie squeezie histoire horreur vraies squeezie histoires twitter horreur bigflo freestyle squeezie freestyle freestyle freestyle metrage film action rainbow rainbow court-metrage action squeezie squeezie tony stark squeezie space moments compilation malaise trolls marrants passion mars clash annees squeezie annees mcfly enfance clash enfance squeezie glacier photos telephone pain histoire squeezie twitter squeezie histoire horreur enquete tour monde squeezie surprise rencontre millions squeezie millions squeezie tour squeezie squeezie squeezie histoires squeezie scandales squeezie revelations dossier squeezie horreur histoire horreur histoire squeezie twitter horreur sosie sosie sosie twitter horreur histoire horreur commentaires squeezie commentaires avis histoire histoire horreur histoire peur probleme construction construction homme president squeezie squeezie police histoire horreur histoire peur histoire peur maison histoire histoire peur histoire horreur explication squeezie jouets maxenss jouet squeezie notes histoire twitter squeezie histoire horreur histoire squeezie histoire effet groupe squeezie theorie groupe sociologie theorie squeezie culture professeur battle squeezie squeezie squeezie squeezie horreur compilation gratuits jeu eponge jeu foret squeezie mcfly maxenss squeezie cachettes intelligence intelligence maman parents jeu peur seduction filles seduction conseils effet souvenirs souvenirs pikachu squeezie virtuel site squeezie site site fortnite squeezie fortnite song squeezie fortnite maxenss couple maxenss question faq question squeezie questions reponses squeezie scene maxenss site squeezie site site annonces squeezie jeu rage jeu questions squeezie squeezie adolescent mere slip jeu societe nez seblafrite enfant enfance ecole enfance enquete mcfly mcfly youtubeurs squeezie jeu jeu youtubeurs mcfly squeezie betises peur battle battle vie dragon adolescent adolescence squeezie adolescence enfant squeezie chanson autoderision derision effets livre page squeezie livre livre youtuber livre doublage batman doublage dragon doublage doublage voix francaises squeezie adoption squeezie micka place squeezie jeu joggernauts mcfly visages dofus enfance jeu dofus fr cuphead fr cuphead cuphead jeu dragon millions squeezie chatroulette squeezie chambre foret nature survie jeu lampe fangame jeu rage fangame fangame jeu mail rage jeu fangame squeezie fete visite freestyle freestyle chanson lunettes squeezie mcfly mcfly mcfly jeu mcfly maxenss sociologie confiance mefiance jeu sociologie confiance montage photos photos seduction squeezie application seduction application application fille ville lieu squeezie entreprise jeu entrepreneur jeu compagnie tatouage tattoo tatouage infirmiere images squeezie images photos photos infirmiere jeu societe youtube youtube sites internet epoque site epoque youtube ans squeezie mcfly amis jeu telephone jeu telephone amis tu ps4 squeezie freestyle rappeur rappeurs squeezie squeezie jeu horreur compilation horreur jeu horreur squeezie prix prix prix jeu prix jeu objets prix squeezie chasse tresor jeu jeu squeezie chanson produit maxenss produit squeezie medecin jeu medecin jeu maladie symptomes redemption squeezie visages mcfly jeu sous-titres jeu playerunknown' battle fr squeezie survie battle vie squeezie squeezie sites squeezie site squeezie sites site web squeezie sites marrants internet youtube youtube youtubers squeezie as gameplay fr fr squeezie jeu horreur scary moments maxenss musique youtuber remix squeezie squeezie lieu squeezie gamer squeezie squeezie compilation building gameplay fr fr squeezie jeu horreur scary moments gameplay fr fr squeezie jeu horreur scary moments g apesanteur vol gravite vol vole bruit maxenss app face squeezie squeezie tinder rencontre tinder application application game squeezie fete soiree filles mirage magie magician meilleures recherches recherches song action clash incrustation jeu numero squeezie squeezie argent squeezie bain tir compilation gratuit bateau pirates wankil massage manette squeezie jeu massage jeu massage agence probleme electricite electricite profondeur champs cerveau cyprien jeu chance machine squeezie pinces online commentateur squeezie sport enquete enquete fr squeezie jeu jeu horreur panty jeu culottes calecon vetements jeu squeezie bobsleigh squeezie micka jeu jeu marrant micka jeu squeezie squeezie jeu pleure marrantes squeezie eau compilation bourre compilation jeux squeezie jeu societe prefere micka tir squeezie vlog tatouage squeezie oeuvre art squeezie jeu gestion gameplay squeezie erreurs erreurs carriere fr squeezie pleure fr squeezie animal jeu cheval cheval homme tablette squeezie homme cheval lundi jour travail squeezie paranormal fantome dame squeezie invocation salle bain jeu horreur jeu thailandais retour oeuvre art jeu horreur peur jeu relations squeezie sociologie interaction trainer entrainement interaction garde corps president president squeezie t squeezie scorpion commentaires youtube revolution probleme youtube micka hunt gameplay gameplay fr squeezie squeezie squeezie squeezie squeezie jeu colonel squeezie maladie jeu to die squeezie jeu jeu pere cours cours ecole ecole highschool game squeezie jeu with squeezie compilation jeu gratuit jeu vie nez odeur park squeezie park appareil aise squeezie crying squeezie tatouage guerre guerre guerre vive douchebag fille transformation moche fille chirurgie piece gameplay pokemon squeezie chasse squeezie piratage to hacker gameplay gameplay fr chasse squeezie fr squeezie fail fr squeezie fin enqueteur enquete squeezie metres athletisme molette compilation squeezie garcon squeezie virilite squeezie fr jeu youtube youtube fin arrete youtube vache voiture cambriolage vie jeu vie vie s game squeezie game jeu horreur soiree squeezie clash squeezie moments squeezie jeu jeu jeu game fr jeu motivation motivation game jeu jeu motivation squeezie it soiree soir amour femme matin caissier fr vive oculus squeezie secret youtube youtubeur youtube youtube simulation youtubeur simulation secondes bunker seconds games games paint squeezie prison oeuvre art squeezie fr fr squeezie squeezie finale coupe fr squeezie jeu sous-marin jeu squeezie squeezie decapitation ecole squeezie animation fiction camion squeezie camions camion jeu fois squeezie squeezie jeu rage attaque titans jeu titans squeezie jeu gameplay squeezie squeezie pleurs squeezie cry cry gameplay squeezie squeezie voiture squeezie emily emily professeur monstres jeu horreur jeu jeu ecole preferes best machine besiege compilation jeu squeezie marrant squeezie fr squeezie squeezie question site gratuit micka squeezie squeezie fille squeezie fille squeezie simulateur compilation compilation jeux jeu gratuit choix squeezie choisir squeezie verite micka rage micka verite squeezie rage micka controle fr agario fr hardcore agario question interrogation francais fouine squeezie voiture squeezie compilation jeux compilation with simulator squeezie godzilla dawn dawn gameplay dawn fr dawn gameplay fr dawn dawn fin dawn gameplay dawn dawn fr dawn let' dawn dawn squeezie fr moments dawn dawn gameplay dawn gameplay fr dawn dawn let' dawn spooky' s squeezie spooky' s spooky' s jeu kawai jeu mignon chambre dawn gameplay dawn fr dawn let' dawn dawn dawn part squeezie squeezie site site site site squeezie temps site francais ps4 moments moments marrants squeezie jeu jeu jeu jeu monde squeezie jeu rage construction jeu besiege agario fr squeezie tablette at at gameplay at fr at squeezie s voix fusion fusion fusion fusion fusion jeu jeu jeu compilation fr agario fin evie fr position squeezie fr record fr notice squeezie ecole squeezie bloc squeezie fr cheat record cercle squeezie horreur fr fr record tuto point cercle squeezie serveur compilation jeux compilation marrant crdibilite jeu chats erie fr erie gameplay fr squeezie jeu horreur kombat x kombat x kombat kombat fr squeezie kombat compilation jeu girafe compilation jeux kombat x kombat fr kombat combat jeu combat kombat fr fr squeezie squeezie ecole notice ecole gta online francais mods squeezie gta squeezie funny zombie squeezie drogue jeu jeu jeu game jeu jeu squeezie jeu home drunk jeu jeu gratuit compilation jeux fr besiege construction construction spooky spooky' s squeezie squeezie horreur mignon jeu mignon horreur spooky' s jumpscares question squeezie question question squeezie ordres enfant moments mensonge mensonge mensonge electricite question fr medieval construction squeezie electricite squeezie squeezie micka fr stranded gameplay fr squeezie squeezie fr squeezie passion at at fr at at parodie jeu horreur fr squeezie rendez-vous rendez-vous fr squeezie explosion question call voyage temps jeu gratuit micka rencard apogee rage kitty gratuit fr squeezie chirurgie chirurgie geometry question baguette squeezie squeezie gratuit jeu horreur game gratuit jeu horreur game gratuit jeu horreur game jeu horreur game simulateur terreur peur gratuit jeu horreur game fr squeezie docteur fr open jeu horreur jeu peur sleep fr jeu horreur jeu peur s francais squeezie jeu jeu drole s gratuit squeezie liberte squeezie oculus fr oculus best oculus fete chevres reaction s francais murder squeezie fr s fr squeezie park baton verite park park park football fr football fr catch fr octodad fr delire francais question podcast question squeezie gratuit jeu horreur game fr s squeezie s fr s s space jeu gratuit squeezie projet ujdlpdw call call journee chanson chanson chanson youtube communaute youtube call max geek geek v3 squeezie chanson amoodiesqueezie geek call chanson chanson\""
      ]
     },
     "execution_count": 54,
     "metadata": {},
     "output_type": "execute_result"
    }
   ],
   "source": [
    "text_output"
   ]
  },
  {
   "cell_type": "code",
   "execution_count": null,
   "metadata": {},
   "outputs": [],
   "source": [
    "# pip install spacy\n",
    "#! python -m spacy download fr\n",
    "# pip install unidecode"
   ]
  },
  {
   "cell_type": "code",
   "execution_count": 55,
   "metadata": {},
   "outputs": [],
   "source": [
    "themes = ['economie','sport','musique','santé','loisir','voyage']"
   ]
  },
  {
   "cell_type": "code",
   "execution_count": 56,
   "metadata": {},
   "outputs": [],
   "source": [
    "da_the = pd.DataFrame([])"
   ]
  },
  {
   "cell_type": "code",
   "execution_count": 57,
   "metadata": {},
   "outputs": [
    {
     "name": "stderr",
     "output_type": "stream",
     "text": [
      "<ipython-input-57-a083420d8aee>:2: UserWarning: [W007] The model you're using has no word vectors loaded, so the result of the Doc.similarity method will be based on the tagger, parser and NER, which may not give useful similarity judgements. This may happen if you're using one of the small models, e.g. `en_core_web_sm`, which don't ship with word vectors and only use context-sensitive tensors. You can always add your own word vectors, or use one of the larger models instead if available.\n",
      "  da_the = da_the.append({'Theme':theme,'Proba':round(nlp(text_output).similarity(nlp(theme)),3)}, ignore_index=True)\n"
     ]
    }
   ],
   "source": [
    "for theme in themes:\n",
    "    da_the = da_the.append({'Theme':theme,'Proba':round(nlp(text_output).similarity(nlp(theme)),3)}, ignore_index=True)"
   ]
  },
  {
   "cell_type": "code",
   "execution_count": 58,
   "metadata": {},
   "outputs": [
    {
     "data": {
      "text/html": [
       "<div>\n",
       "<style scoped>\n",
       "    .dataframe tbody tr th:only-of-type {\n",
       "        vertical-align: middle;\n",
       "    }\n",
       "\n",
       "    .dataframe tbody tr th {\n",
       "        vertical-align: top;\n",
       "    }\n",
       "\n",
       "    .dataframe thead th {\n",
       "        text-align: right;\n",
       "    }\n",
       "</style>\n",
       "<table border=\"1\" class=\"dataframe\">\n",
       "  <thead>\n",
       "    <tr style=\"text-align: right;\">\n",
       "      <th></th>\n",
       "      <th>Proba</th>\n",
       "      <th>Theme</th>\n",
       "    </tr>\n",
       "  </thead>\n",
       "  <tbody>\n",
       "    <tr>\n",
       "      <th>0</th>\n",
       "      <td>0.478</td>\n",
       "      <td>economie</td>\n",
       "    </tr>\n",
       "    <tr>\n",
       "      <th>1</th>\n",
       "      <td>0.592</td>\n",
       "      <td>sport</td>\n",
       "    </tr>\n",
       "    <tr>\n",
       "      <th>2</th>\n",
       "      <td>0.533</td>\n",
       "      <td>musique</td>\n",
       "    </tr>\n",
       "    <tr>\n",
       "      <th>3</th>\n",
       "      <td>0.507</td>\n",
       "      <td>santé</td>\n",
       "    </tr>\n",
       "    <tr>\n",
       "      <th>4</th>\n",
       "      <td>0.625</td>\n",
       "      <td>loisir</td>\n",
       "    </tr>\n",
       "    <tr>\n",
       "      <th>5</th>\n",
       "      <td>0.664</td>\n",
       "      <td>voyage</td>\n",
       "    </tr>\n",
       "  </tbody>\n",
       "</table>\n",
       "</div>"
      ],
      "text/plain": [
       "   Proba     Theme\n",
       "0  0.478  economie\n",
       "1  0.592     sport\n",
       "2  0.533   musique\n",
       "3  0.507     santé\n",
       "4  0.625    loisir\n",
       "5  0.664    voyage"
      ]
     },
     "execution_count": 58,
     "metadata": {},
     "output_type": "execute_result"
    }
   ],
   "source": [
    "da_the"
   ]
  },
  {
   "cell_type": "code",
   "execution_count": null,
   "metadata": {},
   "outputs": [],
   "source": [
    "import plotly.express as px\n",
    "import pandas as pd\n",
    "df = pd.DataFrame(dict(\n",
    "    r=data.Proba,\n",
    "    theta=data.Theme))\n",
    "fig = px.line_polar(df, r='r', theta='theta', line_close=True)\n",
    "fig.show()"
   ]
  },
  {
   "cell_type": "code",
   "execution_count": null,
   "metadata": {},
   "outputs": [],
   "source": [
    "from wordcloud import WordCloud"
   ]
  },
  {
   "cell_type": "code",
   "execution_count": null,
   "metadata": {},
   "outputs": [],
   "source": [
    "# Import the wordcloud library\n",
    "from wordcloud import WordCloud\n",
    "# Join the different processed titles together.\n",
    "# Create a WordCloud object\n",
    "wordcloud = WordCloud(background_color=\"white\", max_words=50, contour_width=3, contour_color='steelblue')\n",
    "# Generate a word cloud\n",
    "wordcloud.generate(tags)\n",
    "# Visualize the word cloud\n",
    "wordcloud.to_image()"
   ]
  },
  {
   "cell_type": "code",
   "execution_count": null,
   "metadata": {},
   "outputs": [],
   "source": [
    "# Load the library with the CountVectorizer method\n",
    "from sklearn.feature_extraction.text import CountVectorizer\n",
    "import numpy as np\n",
    "import matplotlib.pyplot as plt\n",
    "import seaborn as sns\n",
    "sns.set_style('whitegrid')\n",
    "%matplotlib inline\n",
    "# Helper function\n",
    "def plot_10_most_common_words(count_data, count_vectorizer):\n",
    "    import matplotlib.pyplot as plt\n",
    "    words = count_vectorizer.get_feature_names()\n",
    "    total_counts = np.zeros(len(words))\n",
    "    for t in count_data:\n",
    "        total_counts+=t.toarray()[0]\n",
    "    \n",
    "    count_dict = (zip(words, total_counts))\n",
    "    count_dict = sorted(count_dict, key=lambda x:x[1], reverse=True)[0:10]\n",
    "    words = [w[0] for w in count_dict]\n",
    "    counts = [w[1] for w in count_dict]\n",
    "    x_pos = np.arange(len(words)) \n",
    "    \n",
    "    plt.figure(2, figsize=(15, 15/1.6180))\n",
    "    plt.subplot(title='10 most common words')\n",
    "    sns.set_context(\"notebook\", font_scale=1.25, rc={\"lines.linewidth\": 2.5})\n",
    "    sns.barplot(x_pos, counts, palette='husl')\n",
    "    plt.xticks(x_pos, words, rotation=90) \n",
    "    plt.xlabel('words')\n",
    "    plt.ylabel('counts')\n",
    "    plt.show()\n"
   ]
  },
  {
   "cell_type": "code",
   "execution_count": null,
   "metadata": {},
   "outputs": [],
   "source": [
    "# nltk.download('stopwords')"
   ]
  },
  {
   "cell_type": "code",
   "execution_count": null,
   "metadata": {},
   "outputs": [],
   "source": [
    "from nltk.corpus import stopwords"
   ]
  },
  {
   "cell_type": "code",
   "execution_count": null,
   "metadata": {},
   "outputs": [],
   "source": [
    "count_vectorizer"
   ]
  },
  {
   "cell_type": "code",
   "execution_count": null,
   "metadata": {},
   "outputs": [],
   "source": [
    "stopWords = stopwords.words('french')"
   ]
  },
  {
   "cell_type": "code",
   "execution_count": null,
   "metadata": {},
   "outputs": [],
   "source": [
    "data['videoTags'][data['videoTags'].isna()==False]"
   ]
  },
  {
   "cell_type": "code",
   "execution_count": null,
   "metadata": {},
   "outputs": [],
   "source": [
    "# Initialise the count vectorizer with the English stop words\n",
    "count_vectorizer = CountVectorizer(nltk.corpus.stopwords.words('french'))\n",
    "# Fit and transform the processed titles\n",
    "count_data = count_vectorizer.fit_transform(data['videoTags'][data['videoTags'].isna()==False])\n",
    "# Visualise the 10 most common words\n",
    "plot_10_most_common_words(count_data, count_vectorizer)"
   ]
  },
  {
   "cell_type": "code",
   "execution_count": null,
   "metadata": {},
   "outputs": [],
   "source": [
    "import warnings\n",
    "warnings.simplefilter(\"ignore\", DeprecationWarning)\n",
    "# Load the LDA model from sk-learn\n",
    "from sklearn.decomposition import LatentDirichletAllocation as LDA\n",
    " \n",
    "# Helper function\n",
    "def print_topics(model, count_vectorizer, n_top_words):\n",
    "    words = count_vectorizer.get_feature_names()\n",
    "    for topic_idx, topic in enumerate(model.components_):\n",
    "        print(\"\\nTopic #%d:\" % topic_idx)\n",
    "        print(\" \".join([words[i]\n",
    "                        for i in topic.argsort()[:-n_top_words - 1:-1]]))\n",
    "        \n",
    "# Tweak the two parameters below\n",
    "number_topics = 5\n",
    "number_words = 10\n",
    "# Create and fit the LDA model\n",
    "lda = LDA(n_components=number_topics, n_jobs=-1)\n",
    "lda.fit(count_data)\n",
    "# Print the topics found by the LDA model\n",
    "print(\"Topics found via LDA:\")\n",
    "print_topics(lda, count_vectorizer, number_words)"
   ]
  },
  {
   "cell_type": "code",
   "execution_count": null,
   "metadata": {},
   "outputs": [],
   "source": [
    "comments = pd.read_csv(\"../data/comment/Lama Faché/0Yse91dYw9w.csv\", index_col = \"Unnamed: 0\")"
   ]
  },
  {
   "cell_type": "code",
   "execution_count": null,
   "metadata": {},
   "outputs": [],
   "source": [
    "comments['comment']"
   ]
  },
  {
   "cell_type": "code",
   "execution_count": null,
   "metadata": {},
   "outputs": [],
   "source": [
    "from nltk.stem.snowball import SnowballStemmer\n",
    "import unidecode\n",
    "import re\n",
    "stemmer = SnowballStemmer(\"french\")\n",
    "\n",
    "stop_words = nltk.corpus.stopwords.words('french')"
   ]
  },
  {
   "cell_type": "code",
   "execution_count": null,
   "metadata": {},
   "outputs": [],
   "source": [
    "#pip install stop_words"
   ]
  },
  {
   "cell_type": "code",
   "execution_count": null,
   "metadata": {},
   "outputs": [],
   "source": [
    "from nltk.corpus import stopwords\n",
    "import stop_words\n",
    "\n",
    "def nettoyage(texte):\n",
    "    tex=[]\n",
    "    # Construction de la liste de stop words\n",
    "\n",
    "    sw_1=stop_words.get_stop_words('fr')\n",
    "    sw_nltk = set(stopwords.words('french')) \n",
    "    sw=list(set(sw_1+list(sw_nltk)))+['vais','vous','je','les','qu','ils','ou','dont','tres',\"etait\"]\n",
    "    sw=[unidecode.unidecode(elem) for elem in sw]\n",
    "    \n",
    "    texte=unidecode.unidecode(texte.lower())\n",
    "    \n",
    "    p=\"([a-z]+)\"\n",
    "    for elem in re.findall(p,texte):\n",
    "        if elem in sw or elem==' ':\n",
    "            continue\n",
    "        else:\n",
    "            tex.append(elem)\n",
    "    return ' '.join(tex)"
   ]
  },
  {
   "cell_type": "code",
   "execution_count": null,
   "metadata": {},
   "outputs": [],
   "source": [
    "texte =\"srg erge erhhrtvsd thrythervbe\""
   ]
  },
  {
   "cell_type": "code",
   "execution_count": null,
   "metadata": {},
   "outputs": [],
   "source": [
    "nettoyage(texte)"
   ]
  },
  {
   "cell_type": "code",
   "execution_count": null,
   "metadata": {},
   "outputs": [],
   "source": [
    "comments['comment']=comments['comment'].apply(nettoyage)"
   ]
  },
  {
   "cell_type": "code",
   "execution_count": null,
   "metadata": {},
   "outputs": [],
   "source": [
    "# Initialise the count vectorizer with the English stop words\n",
    "count_vectorizer = CountVectorizer(stop_words)\n",
    "# Fit and transform the processed titles\n",
    "count_data = count_vectorizer.fit_transform(comments['comment'][comments['comment'].isna()==False])\n",
    "# Visualise the 10 most common words\n",
    "plot_10_most_common_words(count_data, count_vectorizer)"
   ]
  },
  {
   "cell_type": "code",
   "execution_count": null,
   "metadata": {},
   "outputs": [],
   "source": [
    "from textblob import Blobber\n",
    "from textblob_fr import PatternTagger, PatternAnalyzer\n",
    "tb = Blobber(pos_tagger=PatternTagger(), analyzer=PatternAnalyzer())\n",
    "\n",
    "def sentiment_analyse(texte):\n",
    "    blob1 = tb(texte)\n",
    "    sentiment = blob1.sentiment\n",
    "    if sentiment[0] > 0.05: \n",
    "        return 'positive'\n",
    "    elif sentiment[0] < -0.05:\n",
    "        return 'negative'\n",
    "    else:\n",
    "        return 'neutre'"
   ]
  },
  {
   "cell_type": "code",
   "execution_count": null,
   "metadata": {},
   "outputs": [],
   "source": [
    "comments['sentiment'] = comments['comment'].apply(sentiment_analyse)"
   ]
  },
  {
   "cell_type": "code",
   "execution_count": null,
   "metadata": {},
   "outputs": [],
   "source": [
    "comments['sentiment'].hist()"
   ]
  },
  {
   "cell_type": "code",
   "execution_count": null,
   "metadata": {},
   "outputs": [],
   "source": [
    "(0.0, 0.0)[0]"
   ]
  }
 ],
 "metadata": {
  "kernelspec": {
   "display_name": "Python 3",
   "language": "python",
   "name": "python3"
  },
  "language_info": {
   "codemirror_mode": {
    "name": "ipython",
    "version": 3
   },
   "file_extension": ".py",
   "mimetype": "text/x-python",
   "name": "python",
   "nbconvert_exporter": "python",
   "pygments_lexer": "ipython3",
   "version": "3.8.3"
  }
 },
 "nbformat": 4,
 "nbformat_minor": 4
}
