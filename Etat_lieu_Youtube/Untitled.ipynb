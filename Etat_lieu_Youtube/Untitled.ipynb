{
 "cells": [
  {
   "cell_type": "code",
   "execution_count": 1,
   "metadata": {},
   "outputs": [],
   "source": [
    "import pandas as pd"
   ]
  },
  {
   "cell_type": "code",
   "execution_count": 4,
   "metadata": {},
   "outputs": [],
   "source": [
    "df = pd.read_csv(\"../data/channel/youtubers.csv\", index_col=0)"
   ]
  },
  {
   "cell_type": "code",
   "execution_count": 6,
   "metadata": {},
   "outputs": [
    {
     "data": {
      "text/html": [
       "<div>\n",
       "<style scoped>\n",
       "    .dataframe tbody tr th:only-of-type {\n",
       "        vertical-align: middle;\n",
       "    }\n",
       "\n",
       "    .dataframe tbody tr th {\n",
       "        vertical-align: top;\n",
       "    }\n",
       "\n",
       "    .dataframe thead th {\n",
       "        text-align: right;\n",
       "    }\n",
       "</style>\n",
       "<table border=\"1\" class=\"dataframe\">\n",
       "  <thead>\n",
       "    <tr style=\"text-align: right;\">\n",
       "      <th></th>\n",
       "      <th>youtuber</th>\n",
       "      <th>category</th>\n",
       "    </tr>\n",
       "  </thead>\n",
       "  <tbody>\n",
       "    <tr>\n",
       "      <th>0</th>\n",
       "      <td>Nick Jr.</td>\n",
       "      <td>Film &amp; Animation</td>\n",
       "    </tr>\n",
       "    <tr>\n",
       "      <th>1</th>\n",
       "      <td>SQUEEZIE</td>\n",
       "      <td>Gaming</td>\n",
       "    </tr>\n",
       "    <tr>\n",
       "      <th>2</th>\n",
       "      <td>Swan The Voice - Néo &amp; Swan</td>\n",
       "      <td>Entertainment</td>\n",
       "    </tr>\n",
       "    <tr>\n",
       "      <th>3</th>\n",
       "      <td>DORETDEPLATINE</td>\n",
       "      <td>Music</td>\n",
       "    </tr>\n",
       "    <tr>\n",
       "      <th>4</th>\n",
       "      <td>FilmsActu</td>\n",
       "      <td>Film &amp; Animation</td>\n",
       "    </tr>\n",
       "    <tr>\n",
       "      <th>...</th>\n",
       "      <td>...</td>\n",
       "      <td>...</td>\n",
       "    </tr>\n",
       "    <tr>\n",
       "      <th>995</th>\n",
       "      <td>Defroi</td>\n",
       "      <td>Gaming</td>\n",
       "    </tr>\n",
       "    <tr>\n",
       "      <th>996</th>\n",
       "      <td>Spanox</td>\n",
       "      <td>Gaming</td>\n",
       "    </tr>\n",
       "    <tr>\n",
       "      <th>997</th>\n",
       "      <td>DisneyWorldMusic</td>\n",
       "      <td>Music</td>\n",
       "    </tr>\n",
       "    <tr>\n",
       "      <th>998</th>\n",
       "      <td>Lonni</td>\n",
       "      <td>Comedy</td>\n",
       "    </tr>\n",
       "    <tr>\n",
       "      <th>999</th>\n",
       "      <td>Absol Vidéos</td>\n",
       "      <td>Education</td>\n",
       "    </tr>\n",
       "  </tbody>\n",
       "</table>\n",
       "<p>1000 rows × 2 columns</p>\n",
       "</div>"
      ],
      "text/plain": [
       "                        youtuber          category\n",
       "0                       Nick Jr.  Film & Animation\n",
       "1                       SQUEEZIE            Gaming\n",
       "2    Swan The Voice - Néo & Swan     Entertainment\n",
       "3                 DORETDEPLATINE             Music\n",
       "4                      FilmsActu  Film & Animation\n",
       "..                           ...               ...\n",
       "995                       Defroi            Gaming\n",
       "996                       Spanox            Gaming\n",
       "997             DisneyWorldMusic             Music\n",
       "998                        Lonni            Comedy\n",
       "999                 Absol Vidéos         Education\n",
       "\n",
       "[1000 rows x 2 columns]"
      ]
     },
     "execution_count": 6,
     "metadata": {},
     "output_type": "execute_result"
    }
   ],
   "source": [
    "df"
   ]
  },
  {
   "cell_type": "code",
   "execution_count": 7,
   "metadata": {},
   "outputs": [],
   "source": [
    "from selenium import webdriver\n",
    "from webdriver_manager.chrome import ChromeDriverManager\n",
    "from selenium.webdriver.chrome.options import Options\n",
    "\n",
    "'''\n",
    "This function can get return the ID of the channel by that URL that we giving,\n",
    "It was passed at the website 'https://commentpicker.com/youtube-channel-id.php'\n",
    "And we get the ID of the channel at return from the website\n",
    "'''\n",
    "chrome_options=Options()\n",
    "chrome_options.add_argument('--headless')\n",
    "driver = webdriver.Chrome(ChromeDriverManager().install(),options=chrome_options)\n",
    "\n",
    "driver.get('https://commentpicker.com/youtube-channel-id.php')\n",
    "\n",
    "\n",
    "try:\n",
    "    accept_cookie_button = driver.find_element_by_id('ez-accept-all')\n",
    "    accept_cookie_button.click()\n",
    "except:\n",
    "    pass\n",
    "\n",
    "\n",
    "\n",
    "input_url_youtube = driver.find_element_by_id(\"js-youtube-url\")\n",
    "input_url_youtube.send_keys(youtube_channel_url)\n",
    "button_valid_url = driver.find_element_by_id(\"get-channel-id\")\n",
    "button_valid_url.click()\n",
    "driver.implicitly_wait(3)\n",
    "channel_result = driver.find_element_by_class_name(\"channel-result\")\n",
    "channelId = (channel_result.find_element_by_tag_name(\"p\").text.split())[-1]\n",
    "driver.close()"
   ]
  },
  {
   "cell_type": "code",
   "execution_count": null,
   "metadata": {},
   "outputs": [],
   "source": []
  }
 ],
 "metadata": {
  "kernelspec": {
   "display_name": "Python 3",
   "language": "python",
   "name": "python3"
  },
  "language_info": {
   "codemirror_mode": {
    "name": "ipython",
    "version": 3
   },
   "file_extension": ".py",
   "mimetype": "text/x-python",
   "name": "python",
   "nbconvert_exporter": "python",
   "pygments_lexer": "ipython3",
   "version": "3.8.3"
  }
 },
 "nbformat": 4,
 "nbformat_minor": 4
}
