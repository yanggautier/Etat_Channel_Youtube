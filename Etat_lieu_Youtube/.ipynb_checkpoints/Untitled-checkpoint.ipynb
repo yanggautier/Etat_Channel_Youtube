{
 "cells": [
  {
   "cell_type": "code",
   "execution_count": 12,
   "metadata": {
    "ExecuteTime": {
     "end_time": "2020-10-02T09:43:28.814844Z",
     "start_time": "2020-10-02T09:43:28.796885Z"
    }
   },
   "outputs": [],
   "source": [
    "from selenium import webdriver\n",
    "from webdriver_manager.chrome import ChromeDriverManager\n",
    "from selenium.common import exceptions\n",
    "import sys\n",
    "import time\n",
    "import pandas as pd\n",
    "\n",
    "def scrape(video_id):\n",
    "    \"\"\"\n",
    "    Extracts the comments from the Youtube video given by the URL.\n",
    "    Args:\n",
    "        url (str): The URL to the Youtube video\n",
    "    Raises:\n",
    "        selenium.common.exceptions.NoSuchElementException:\n",
    "        When certain elements to look for cannot be found\n",
    "    \"\"\"\n",
    "\n",
    "    url = \"https://www.youtube.com/watch?v=\" + video_id\n",
    "    \n",
    "    driver = webdriver.Chrome(ChromeDriverManager().install())\n",
    "\n",
    "    # Navigates to the URL, maximizes the current window, and\n",
    "    # then suspends execution for (at least) 5 seconds (this\n",
    "    # gives time for the page to load).\n",
    "    driver.get(url)\n",
    "    driver.maximize_window()\n",
    "    time.sleep(5)\n",
    "    data = pd.DataFrame(columns=['videoId', 'comment'])\n",
    "    \n",
    "    try:\n",
    "        button = driver.find_element_by_link_text('NON MERCI')\n",
    "        button.click()\n",
    "    except exceptions.NoSuchElementException:\n",
    "        pass\n",
    "    \n",
    "\n",
    "    try:\n",
    "        button = driver.find_element_by_xpath(\"//*[contains(text(), 'J\\'accepte')]\")\n",
    "        button.click()\n",
    "    except exceptions.NoSuchElementException:\n",
    "        pass\n",
    "\n",
    "        \n",
    "    try:\n",
    "        # Extract the elements storing the video title and\n",
    "        # comment section.\n",
    "#         title = driver.find_element_by_xpath('//*[@id=\"container\"]/h1/yt-formatted-string').text\n",
    "        comment_section = driver.find_element_by_xpath('//*[@id=\"comments\"]')\n",
    "    except exceptions.NoSuchElementException:\n",
    "        # Note: Youtube may have changed their HTML layouts for\n",
    "        # videos, so raise an error for sanity sake in case the\n",
    "        # elements provided cannot be found anymore.\n",
    "        error = \"Error: Double check selector OR \"\n",
    "        error += \"element may not yet be on the screen at the time of the find operation\"\n",
    "        print(error)\n",
    "\n",
    "    # Scroll into view the comment section, then allow some time\n",
    "    # for everything to be loaded as necessary.\n",
    "    driver.execute_script(\"arguments[0].scrollIntoView();\", comment_section)\n",
    "    time.sleep(7)\n",
    "\n",
    "    # Scroll all the way down to the bottom in order to get all the\n",
    "    # elements loaded (since Youtube dynamically loads them).\n",
    "    last_height = driver.execute_script(\"return document.documentElement.scrollHeight\")\n",
    "\n",
    "    while True:\n",
    "        # Scroll down 'til \"next load\".\n",
    "        driver.execute_script(\"window.scrollTo(0, document.documentElement.scrollHeight);\")\n",
    "\n",
    "        # Wait to load everything thus far.\n",
    "        time.sleep(2)\n",
    "\n",
    "        # Calculate new scroll height and compare with last scroll height.\n",
    "        new_height = driver.execute_script(\"return document.documentElement.scrollHeight\")\n",
    "        if new_height == last_height:\n",
    "            break\n",
    "        last_height = new_height\n",
    "\n",
    "    # One last scroll just in case.\n",
    "    driver.execute_script(\"window.scrollTo(0, document.documentElement.scrollHeight);\")\n",
    "\n",
    "    try:\n",
    "        # Extract the elements storing the usernames and comments.\n",
    "#         username_elems = driver.find_elements_by_xpath('//*[@id=\"author-text\"]')\n",
    "        comment_elems = driver.find_elements_by_xpath('//*[@id=\"content-text\"]')\n",
    "        data = data.append({'videoId': video_id, 'comment':comment_elems.text}, ignore_index=True)\n",
    "    except exceptions.NoSuchElementException:\n",
    "        error = \"Error: Double check selector OR \"\n",
    "        error += \"element may not yet be on the screen at the time of the find operation\"\n",
    "        print(error)\n",
    "    \n",
    "#     print(\"> VIDEO TITLE: \" + title + \"\\n\")\n",
    "#     print(\"> USERNAMES & COMMENTS:\")\n",
    "    \n",
    "    \n",
    "#     for username, comment in zip(username_elems, comment_elems):\n",
    "#         print(username.text + \":\")\n",
    "#         print(comment.text + \"\\n\")\n",
    "\n",
    "    driver.close()\n",
    "    return data\n"
   ]
  },
  {
   "cell_type": "code",
   "execution_count": 15,
   "metadata": {
    "ExecuteTime": {
     "end_time": "2020-10-02T09:48:05.557501Z",
     "start_time": "2020-10-02T09:46:38.829546Z"
    }
   },
   "outputs": [
    {
     "name": "stderr",
     "output_type": "stream",
     "text": [
      "[WDM] - Current google-chrome version is 83.0.4103\n",
      "[WDM] - Get LATEST driver version for 83.0.4103\n",
      "[WDM] - Driver [C:\\Users\\yangg\\.wdm\\drivers\\chromedriver\\win32\\83.0.4103.39\\chromedriver.exe] found in cache\n"
     ]
    },
    {
     "name": "stdout",
     "output_type": "stream",
     "text": [
      " \n"
     ]
    }
   ],
   "source": [
    "data = scrape(\"MAXeCR7iNmU\")"
   ]
  },
  {
   "cell_type": "code",
   "execution_count": 16,
   "metadata": {
    "ExecuteTime": {
     "end_time": "2020-10-02T09:53:07.937543Z",
     "start_time": "2020-10-02T09:53:07.874504Z"
    }
   },
   "outputs": [
    {
     "data": {
      "text/html": [
       "<div>\n",
       "<style scoped>\n",
       "    .dataframe tbody tr th:only-of-type {\n",
       "        vertical-align: middle;\n",
       "    }\n",
       "\n",
       "    .dataframe tbody tr th {\n",
       "        vertical-align: top;\n",
       "    }\n",
       "\n",
       "    .dataframe thead th {\n",
       "        text-align: right;\n",
       "    }\n",
       "</style>\n",
       "<table border=\"1\" class=\"dataframe\">\n",
       "  <thead>\n",
       "    <tr style=\"text-align: right;\">\n",
       "      <th></th>\n",
       "      <th>videoId</th>\n",
       "      <th>comment</th>\n",
       "    </tr>\n",
       "  </thead>\n",
       "  <tbody>\n",
       "    <tr>\n",
       "      <th>0</th>\n",
       "      <td>MAXeCR7iNmU</td>\n",
       "      <td>[&lt;selenium.webdriver.remote.webelement.WebElem...</td>\n",
       "    </tr>\n",
       "  </tbody>\n",
       "</table>\n",
       "</div>"
      ],
      "text/plain": [
       "       videoId                                            comment\n",
       "0  MAXeCR7iNmU  [<selenium.webdriver.remote.webelement.WebElem..."
      ]
     },
     "execution_count": 16,
     "metadata": {},
     "output_type": "execute_result"
    }
   ],
   "source": [
    "data"
   ]
  }
 ],
 "metadata": {
  "kernelspec": {
   "display_name": "Python 3",
   "language": "python",
   "name": "python3"
  },
  "language_info": {
   "codemirror_mode": {
    "name": "ipython",
    "version": 3
   },
   "file_extension": ".py",
   "mimetype": "text/x-python",
   "name": "python",
   "nbconvert_exporter": "python",
   "pygments_lexer": "ipython3",
   "version": "3.8.3"
  },
  "latex_envs": {
   "LaTeX_envs_menu_present": true,
   "autoclose": false,
   "autocomplete": true,
   "bibliofile": "biblio.bib",
   "cite_by": "apalike",
   "current_citInitial": 1,
   "eqLabelWithNumbers": true,
   "eqNumInitial": 1,
   "hotkeys": {
    "equation": "Ctrl-E",
    "itemize": "Ctrl-I"
   },
   "labels_anchors": false,
   "latex_user_defs": false,
   "report_style_numbering": false,
   "user_envs_cfg": false
  },
  "varInspector": {
   "cols": {
    "lenName": 16,
    "lenType": 16,
    "lenVar": 40
   },
   "kernels_config": {
    "python": {
     "delete_cmd_postfix": "",
     "delete_cmd_prefix": "del ",
     "library": "var_list.py",
     "varRefreshCmd": "print(var_dic_list())"
    },
    "r": {
     "delete_cmd_postfix": ") ",
     "delete_cmd_prefix": "rm(",
     "library": "var_list.r",
     "varRefreshCmd": "cat(var_dic_list()) "
    }
   },
   "types_to_exclude": [
    "module",
    "function",
    "builtin_function_or_method",
    "instance",
    "_Feature"
   ],
   "window_display": false
  }
 },
 "nbformat": 4,
 "nbformat_minor": 4
}
